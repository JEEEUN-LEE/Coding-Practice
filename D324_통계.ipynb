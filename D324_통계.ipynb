{
 "cells": [
  {
   "cell_type": "code",
   "execution_count": 1,
   "id": "8a4c7f8c",
   "metadata": {},
   "outputs": [],
   "source": [
    "# 이항분포 실습\n",
    "## scipy.stats 모듈의 binom 클래스 사용\n",
    "import numpy as np \n",
    "import pandas as pd\n",
    "import scipy as sp\n",
    "from scipy import stats\n",
    "\n",
    "from matplotlib import pyplot as plt\n",
    "import seaborn as sns\n",
    "%matplotlib inline"
   ]
  },
  {
   "cell_type": "code",
   "execution_count": 5,
   "id": "83fdf2bb",
   "metadata": {},
   "outputs": [],
   "source": [
    "# 주사위를 2번 던져서 그 중 1번 앞면일 확률 계산하기"
   ]
  },
  {
   "cell_type": "code",
   "execution_count": 2,
   "id": "dc0761f1",
   "metadata": {},
   "outputs": [
    {
     "data": {
      "text/plain": [
       "np.float64(0.5000000000000002)"
      ]
     },
     "execution_count": 2,
     "metadata": {},
     "output_type": "execute_result"
    }
   ],
   "source": [
    "sp.stats.binom.pmf(k = 1, n = 2, p = 0.5) # n: 시행횟수, p: 성공확률"
   ]
  },
  {
   "cell_type": "code",
   "execution_count": 3,
   "id": "9111ac96",
   "metadata": {},
   "outputs": [
    {
     "data": {
      "text/plain": [
       "array([2, 3, 0, 1, 1])"
      ]
     },
     "execution_count": 3,
     "metadata": {},
     "output_type": "execute_result"
    }
   ],
   "source": [
    "np.random.seed(1)\n",
    "sp.stats.binom.rvs(n = 10, p = 0.2, size = 5)"
   ]
  },
  {
   "cell_type": "code",
   "execution_count": 4,
   "id": "1b660927",
   "metadata": {},
   "outputs": [
    {
     "data": {
      "image/png": "[encoded data removed]",
      "text/plain": [
       "<Figure size 640x480 with 1 Axes>"
      ]
     },
     "metadata": {},
     "output_type": "display_data"
    }
   ],
   "source": [
    "# N=10, p=0.2인 이항분포의 확률질량함수 그리기\n",
    "binomial = sp.stats.binom(n = 10, p=0.2)\n",
    "\n",
    "np.random.seed(1)\n",
    "rvs_binomial = binomial.rvs(size = 10000)\n",
    "\n",
    "m = np.arange(0, 11, 1)\n",
    "pmf_binomial = binomial.pmf(k=m)\n",
    "\n",
    "sns.histplot(rvs_binomial, bins=m, stat='probability', discrete=True)\n",
    "plt.plot(m, pmf_binomial, 'bo')\n",
    "plt.show()"
   ]
  },
  {
   "cell_type": "markdown",
   "id": "bb55f426",
   "metadata": {},
   "source": [
    "좌우비대칭인 히스토그램임을 알 수 있다."
   ]
  },
  {
   "cell_type": "markdown",
   "id": "168ae4b8",
   "metadata": {},
   "source": [
    "# 푸아송 분포\n",
    "## 1개 또는 2개, 1회 또는 2회 등의 카운트 데이터가 따르는 이산형 확률분포이다\n",
    "\n",
    "  일정한 시간 또는 공간 내에서 어떤 사건이 몇 번 발생할 확률을 나타내는 분포.\n",
    "  - 예: 한 시간 동안 걸려오는 전화 수, 하루 동안 응급실 방문자 수 등\n",
    "  - 사건이 '몇 번 일어났는가'를 다루는 count data에 사용된다.\n",
    "\n",
    "- 확률질량함수 (PMF):\n",
    "    P(X = k) = (e^(-λ) * λ^k) / k!\n",
    "    - X : 사건 발생 횟수 (0, 1, 2, ...)\n",
    "    - λ : 평균 발생 횟수 (rate parameter)\n",
    "    - e : 자연상수 (2.71828)\n",
    "\n",
    "- 주요 성질:\n",
    "  평균(E[X]) = λ\n",
    "  분산(Var[X]) = λ\n",
    "  평균과 분산이 같음 → 분산이 평균보다 크면 과산포(overdispersion) 현상\n",
    "\n",
    "- 예시\n",
    "  - 하루 평균 3건의 교통사고가 발생할 때, 특정 날 사고가 5건일 확률\n",
    "  - 1시간 평균 10통의 전화가 걸려올 때, 12통이 걸려올 확률"
   ]
  },
  {
   "cell_type": "code",
   "execution_count": 6,
   "id": "1898ede0",
   "metadata": {},
   "outputs": [
    {
     "data": {
      "text/plain": [
       "np.float64(0.08422433748856832)"
      ]
     },
     "execution_count": 6,
     "metadata": {},
     "output_type": "execute_result"
    }
   ],
   "source": [
    "## 푸아송 분포 실습\n",
    "sp.stats.poisson.pmf(k = 2, mu = 5)"
   ]
  },
  {
   "cell_type": "code",
   "execution_count": 7,
   "id": "772ea02d",
   "metadata": {},
   "outputs": [
    {
     "data": {
      "text/plain": [
       "array([2, 2, 4, 3, 4])"
      ]
     },
     "execution_count": 7,
     "metadata": {},
     "output_type": "execute_result"
    }
   ],
   "source": [
    "np.random.seed(1)\n",
    "sp.stats.poisson.rvs(mu = 5, size = 5)"
   ]
  },
  {
   "cell_type": "code",
   "execution_count": 8,
   "id": "a18e1bdb",
   "metadata": {},
   "outputs": [
    {
     "name": "stderr",
     "output_type": "stream",
     "text": [
      "C:\\Users\\jee36\\AppData\\Local\\Temp\\ipykernel_28472\\1327904189.py:8: UserWarning: \n",
      "\n",
      "`distplot` is a deprecated function and will be removed in seaborn v0.14.0.\n",
      "\n",
      "Please adapt your code to use either `displot` (a figure-level function with\n",
      "similar flexibility) or `histplot` (an axes-level function for histograms).\n",
      "\n",
      "For a guide to updating your code to use the new functions, please see\n",
      "https://gist.github.com/mwaskom/de44147ed2974457ad6372750bbe5751\n",
      "\n",
      "  sns.distplot(rvs_possion, bins=m, kde=False, hist_kws={'density': True})\n"
     ]
    },
    {
     "data": {
      "text/plain": [
       "[<matplotlib.lines.Line2D at 0x1c5ed5c40b0>]"
      ]
     },
     "execution_count": 8,
     "metadata": {},
     "output_type": "execute_result"
    },
    {
     "data": {
      "image/png": "[encoded data removed]",
      "text/plain": [
       "<Figure size 640x480 with 1 Axes>"
      ]
     },
     "metadata": {},
     "output_type": "display_data"
    }
   ],
   "source": [
    "# λ = 2인 푸아송 분포의 확률질량함수 그리기\n",
    "poisson = sp.stats.poisson(mu = 2)\n",
    "np.random.seed(1)\n",
    "rvs_possion = poisson.rvs(size = 10000)\n",
    "\n",
    "pmf_poisson = poisson.pmf(k = m)\n",
    "\n",
    "sns.distplot(rvs_possion, bins=m, kde=False, hist_kws={'density': True})\n",
    "plt.plot(m, pmf_poisson, 'bo')"
   ]
  },
  {
   "cell_type": "markdown",
   "id": "7b3a387c",
   "metadata": {},
   "source": [
    "시행 횟수 𝑛을 매우 크게 하고, 성공확률 p를 매우 작게하면, 이항분포는 포아송 분포로 수렴함을 알 수 있다."
   ]
  }
 ],
 "metadata": {
  "kernelspec": {
   "display_name": "Python (myenv)",
   "language": "python",
   "name": "myenv_kernel"
  },
  "language_info": {
   "codemirror_mode": {
    "name": "ipython",
    "version": 3
   },
   "file_extension": ".py",
   "mimetype": "text/x-python",
   "name": "python",
   "nbconvert_exporter": "python",
   "pygments_lexer": "ipython3",
   "version": "3.12.8"
  }
 },
 "nbformat": 4,
 "nbformat_minor": 5
}
