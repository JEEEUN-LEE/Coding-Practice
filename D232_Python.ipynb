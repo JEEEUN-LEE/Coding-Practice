{
 "cells": [
  {
   "cell_type": "code",
   "execution_count": 1,
   "id": "90bc8edf",
   "metadata": {},
   "outputs": [
    {
     "name": "stdout",
     "output_type": "stream",
     "text": [
      "0\n"
     ]
    }
   ],
   "source": [
    "## 참가자들 상담 받기 전까지 기다린 시간의 합이 최소가 되도록 각 유형별 멘토 수 정하는 함수 구하기\n",
    "## k: 상담유형 개수(1~5)\n",
    "## n: 전체 멘토 수 (k<= n <= 20)\n",
    "## reqs: 참가자 상담 요청 리스트\n",
    "\n",
    "# RULE\n",
    "### 각 멘토는 하나의 상담 유형만 가능\n",
    "### 한 멘토는 동시에 한 명만 상담 가능\n",
    "### 각 유형에 최소 1명 멘토 있어야함\n",
    "### 기다린 시간 = 상담 시작 시각 - 상담 요청 시각 \n",
    "\n",
    "# 알고리즘 틀\n",
    "### 1. N명의 멘토를 K개 상담 유형에 나눠 배치 조합 만들기(1 이상씩)\n",
    "### 2. 배치 조합 별 총 대기시간 구해서 최소가 되는 배치 조합 찾기\n",
    "\n",
    "# 1. \n",
    "# n=5, k=3 일 때 [1, 2, 2], [1, 3, 1] 이런식으로.\n",
    "# -> 정수 n을 k개의 1 이상 자연수로 나누는 모든 조합 구하기\n",
    "import heapq\n",
    "from heapq import heappush, heappop\n",
    "\n",
    "# 1. n명을 k개로 분할하는 데에 가능한 조합 구하기\n",
    "def split_n_into_k_parts(n, k):\n",
    "    result = []\n",
    "    def backtrack(path, remaining, depth):\n",
    "        if depth == k:\n",
    "            if remaining == 0:\n",
    "                result.append(path[:])\n",
    "            return\n",
    "        for i in range(1, remaining - (k - depth - 1) + 1):\n",
    "            path.append(i)\n",
    "            backtrack(path, remaining - i, depth + 1)\n",
    "            path.pop()\n",
    "    backtrack([], n, 0)\n",
    "    return result\n",
    "# 2. 조합 별 참가자 대기시간 구하고, 최소 대기시간 조합 찾기\n",
    "def calculate_wait_time(k, reqs, mentor_distribution):\n",
    "    type_requests = [[] for _ in range(k)]\n",
    "    for start, duration, t in reqs:\n",
    "        type_requests[t - 1].append((start, duration))\n",
    "    \n",
    "    total_wait = 0\n",
    "\n",
    "    for i in range(k):\n",
    "        mentors = [0] * mentor_distribution[i]\n",
    "        heap = mentors[:]\n",
    "        heapq.heapify(heap)\n",
    "        \n",
    "        for start, duration in type_requests[i]:\n",
    "            earliest_finish = heapq.heappop(heap)\n",
    "            actual_start = max(start, earliest_finish)\n",
    "            wait = actual_start - start\n",
    "            total_wait += wait\n",
    "            heapq.heappush(heap, actual_start + duration)\n",
    "    \n",
    "    return total_wait\n",
    "\n",
    "def solution(k, n, reqs):\n",
    "    min_wait = float('inf')\n",
    "    mentor_combinations = split_n_into_k_parts(n, k)\n",
    "\n",
    "    for mentor_distribution in mentor_combinations:\n",
    "        wait_time = calculate_wait_time(k, reqs, mentor_distribution)\n",
    "        if wait_time < min_wait:\n",
    "            min_wait = wait_time\n",
    "\n",
    "    return min_wait\n",
    "\n",
    "# 예시 입력\n",
    "k = 3\n",
    "n = 5\n",
    "reqs = [\n",
    "    (0, 2, 1),  # 1번 유형, 0초에 시작, 2초 소요\n",
    "    (1, 3, 2),  # 2번 유형, 1초에 시작, 3초 소요\n",
    "    (2, 1, 1),  # 1번 유형, 2초에 시작, 1초 소요\n",
    "    (3, 4, 3),  # 3번 유형, 3초에 시작, 4초 소요\n",
    "    (4, 2, 2)   # 2번 유형, 4초에 시작, 2초 소요\n",
    "]\n",
    "print(solution(k, n, reqs))  # 최소 대기시간 출력"
   ]
  },
  {
   "cell_type": "code",
   "execution_count": null,
   "id": "4bb279f0",
   "metadata": {},
   "outputs": [],
   "source": []
  }
 ],
 "metadata": {
  "kernelspec": {
   "display_name": "notebook_kernel",
   "language": "python",
   "name": "notebook_kernel"
  },
  "language_info": {
   "codemirror_mode": {
    "name": "ipython",
    "version": 3
   },
   "file_extension": ".py",
   "mimetype": "text/x-python",
   "name": "python",
   "nbconvert_exporter": "python",
   "pygments_lexer": "ipython3",
   "version": "3.12.8"
  }
 },
 "nbformat": 4,
 "nbformat_minor": 5
}
