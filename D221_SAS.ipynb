{
 "cells": [
  {
   "cell_type": "code",
   "execution_count": null,
   "id": "acd3f685",
   "metadata": {},
   "outputs": [],
   "source": [
    "# SAS 직접 테이블 생성법\n",
    "## $ 표시는 문자 변수명 뒤에 한칸 띄우고 붙이고, 숫자는 변수명만.\n",
    "\n",
    "DATA TEST;\n",
    "INPUT NAME $ AGE SEX $;\n",
    "CARDS;\n",
    "OK 1 남\n",
    "YOU 2 녀;\n",
    "RUN;\n",
    "\n",
    "DATA TEST;\n",
    "INPUT NAME: $12. AGE SEX $; # 기본은 8글자, $12.는 12글자까지 가능\n",
    "CARDS;\n",
    "OK 1 남\n",
    "YOU 2 녀\n",
    "호날두화이팅 3 남;\n",
    "RUN;"
   ]
  }
 ],
 "metadata": {
  "language_info": {
   "name": "python"
  }
 },
 "nbformat": 4,
 "nbformat_minor": 5
}
