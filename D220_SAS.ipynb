{
 "cells": [
  {
   "cell_type": "code",
   "execution_count": null,
   "id": "7bfb1901",
   "metadata": {},
   "outputs": [],
   "source": [
    "# PROC FREQ : 빈도 조회\n",
    "- SAS에서 보통 변수 지칭은 VAR로 쓰지만, FREQ에서는 TABLE이라는 명령어를 사용한다.\n",
    "\n",
    "PROC FREQ DATA = SASHELP.CLASS;\n",
    "TABLE AGE NAME;\n",
    "RUN;\n",
    "\n",
    "- TABLE AGE * NAME; : AGE에 따른 NAME 교차표 생성 "
   ]
  }
 ],
 "metadata": {
  "language_info": {
   "name": "python"
  }
 },
 "nbformat": 4,
 "nbformat_minor": 5
}
