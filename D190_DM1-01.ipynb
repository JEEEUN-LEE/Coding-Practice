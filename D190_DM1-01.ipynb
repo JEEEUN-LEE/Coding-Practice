{
 "cells": [
  {
   "cell_type": "code",
   "execution_count": 53,
   "id": "49cd6312",
   "metadata": {},
   "outputs": [
    {
     "data": {
      "text/html": [
       "<div>\n",
       "<style scoped>\n",
       "    .dataframe tbody tr th:only-of-type {\n",
       "        vertical-align: middle;\n",
       "    }\n",
       "\n",
       "    .dataframe tbody tr th {\n",
       "        vertical-align: top;\n",
       "    }\n",
       "\n",
       "    .dataframe thead th {\n",
       "        text-align: right;\n",
       "    }\n",
       "</style>\n",
       "<table border=\"1\" class=\"dataframe\">\n",
       "  <thead>\n",
       "    <tr style=\"text-align: right;\">\n",
       "      <th></th>\n",
       "      <th>title</th>\n",
       "      <th>channelTitle</th>\n",
       "      <th>categoryId</th>\n",
       "      <th>view_count</th>\n",
       "      <th>likes</th>\n",
       "      <th>dislikes</th>\n",
       "      <th>comment_count</th>\n",
       "      <th>channelId</th>\n",
       "      <th>trending_date2</th>\n",
       "    </tr>\n",
       "  </thead>\n",
       "  <tbody>\n",
       "    <tr>\n",
       "      <th>0</th>\n",
       "      <td>[신병] 물자창고</td>\n",
       "      <td>장삐쭈</td>\n",
       "      <td>23</td>\n",
       "      <td>1893473</td>\n",
       "      <td>38249</td>\n",
       "      <td>730</td>\n",
       "      <td>8595</td>\n",
       "      <td>UChbE5OZQ6dRHECsX0tEPEZQ</td>\n",
       "      <td>2021-01-01</td>\n",
       "    </tr>\n",
       "    <tr>\n",
       "      <th>1</th>\n",
       "      <td>RAIN(비) - 나로 바꾸자 Switch to me (duet with JYP) MV</td>\n",
       "      <td>RAIN's Official Channel</td>\n",
       "      <td>10</td>\n",
       "      <td>2600864</td>\n",
       "      <td>0</td>\n",
       "      <td>0</td>\n",
       "      <td>20129</td>\n",
       "      <td>UCxXgIeE5hxWxHG6dz9Scg2w</td>\n",
       "      <td>2021-01-01</td>\n",
       "    </tr>\n",
       "    <tr>\n",
       "      <th>2</th>\n",
       "      <td>2020년 제야의 종 온라인 타종행사 | 보신각 현장 행사는 진행하지 않습니다.</td>\n",
       "      <td>서울시 · Seoul</td>\n",
       "      <td>29</td>\n",
       "      <td>347049</td>\n",
       "      <td>3564</td>\n",
       "      <td>120</td>\n",
       "      <td>178</td>\n",
       "      <td>UCZUPZW5idAxYp-Asj__lVAA</td>\n",
       "      <td>2021-01-01</td>\n",
       "    </tr>\n",
       "    <tr>\n",
       "      <th>3</th>\n",
       "      <td>고기남자의 칠면조 파티</td>\n",
       "      <td>고기남자 MeatMan</td>\n",
       "      <td>26</td>\n",
       "      <td>528458</td>\n",
       "      <td>15372</td>\n",
       "      <td>280</td>\n",
       "      <td>3470</td>\n",
       "      <td>UCT3CumbFIJiW33uq0UI3zlg</td>\n",
       "      <td>2021-01-01</td>\n",
       "    </tr>\n",
       "    <tr>\n",
       "      <th>4</th>\n",
       "      <td>골목 3mc를 분노하게 만든 마음고생이 심했을 공릉 백반집 사장님의 푸념?! [예능...</td>\n",
       "      <td>스브스밥집</td>\n",
       "      <td>24</td>\n",
       "      <td>494904</td>\n",
       "      <td>3918</td>\n",
       "      <td>111</td>\n",
       "      <td>3142</td>\n",
       "      <td>UCdWgRSfttvDucq4ApcCg5Mw</td>\n",
       "      <td>2021-01-01</td>\n",
       "    </tr>\n",
       "  </tbody>\n",
       "</table>\n",
       "</div>"
      ],
      "text/plain": [
       "                                               title             channelTitle  \\\n",
       "0                                          [신병] 물자창고                      장삐쭈   \n",
       "1   RAIN(비) - 나로 바꾸자 Switch to me (duet with JYP) MV  RAIN's Official Channel   \n",
       "2       2020년 제야의 종 온라인 타종행사 | 보신각 현장 행사는 진행하지 않습니다.              서울시 · Seoul   \n",
       "3                                       고기남자의 칠면조 파티             고기남자 MeatMan   \n",
       "4  골목 3mc를 분노하게 만든 마음고생이 심했을 공릉 백반집 사장님의 푸념?! [예능...                    스브스밥집   \n",
       "\n",
       "   categoryId  view_count  likes  dislikes  comment_count  \\\n",
       "0          23     1893473  38249       730           8595   \n",
       "1          10     2600864      0         0          20129   \n",
       "2          29      347049   3564       120            178   \n",
       "3          26      528458  15372       280           3470   \n",
       "4          24      494904   3918       111           3142   \n",
       "\n",
       "                  channelId trending_date2  \n",
       "0  UChbE5OZQ6dRHECsX0tEPEZQ     2021-01-01  \n",
       "1  UCxXgIeE5hxWxHG6dz9Scg2w     2021-01-01  \n",
       "2  UCZUPZW5idAxYp-Asj__lVAA     2021-01-01  \n",
       "3  UCT3CumbFIJiW33uq0UI3zlg     2021-01-01  \n",
       "4  UCdWgRSfttvDucq4ApcCg5Mw     2021-01-01  "
      ]
     },
     "execution_count": 53,
     "metadata": {},
     "output_type": "execute_result"
    }
   ],
   "source": [
    "# 데이터마님 1유형 01\n",
    "# https://www.datamanim.com/dataset/03_dataq/typeone.html\n",
    "import pandas as pd\n",
    "df = pd.read_csv(\"https://raw.githubusercontent.com/Datamanim/datarepo/main/youtube/youtube.csv\",index_col=0)\n",
    "df.head()"
   ]
  },
  {
   "cell_type": "code",
   "execution_count": 20,
   "id": "c79500eb",
   "metadata": {},
   "outputs": [
    {
     "data": {
      "text/plain": [
       "Index(['title', 'channelTitle', 'categoryId', 'view_count', 'likes',\n",
       "       'dislikes', 'comment_count', 'channelId', 'trending_date2'],\n",
       "      dtype='object')"
      ]
     },
     "execution_count": 20,
     "metadata": {},
     "output_type": "execute_result"
    }
   ],
   "source": [
    "df.columns"
   ]
  },
  {
   "cell_type": "markdown",
   "id": "221f2697",
   "metadata": {},
   "source": [
    "## 1유형-01 [Try 코드]"
   ]
  },
  {
   "cell_type": "code",
   "execution_count": null,
   "id": "ddd794c7",
   "metadata": {},
   "outputs": [],
   "source": [
    "# 인기 동영상 제작횟수가 많은 채널 상위 10개명을 출력하라 (날짜기준, 중복포함)\n",
    "\n",
    "# 1. 날짜 기준 정렬\n",
    "df.sort_values('trending_date2', ascending = False, inplace = True)\n",
    "# 2. 채널명 개수 세서, 상위 10개 추출\n",
    "top10_channel = df[df['channelTitle'].value_counts().head(10)]\n",
    "# 3. 채널명만 리스트로 출력\n",
    "top10_channel_list = top10_channel['channelTitle'].unique().tolist()\n",
    "top10_channel_list"
   ]
  },
  {
   "cell_type": "markdown",
   "id": "8d85c2bc",
   "metadata": {},
   "source": [
    "<틀린 부분>\n",
    "- channel_ID 기준.\n",
    "- value_counts().head()는 Series로 출력되어 바로 df[] 필터를 사용할 수 없음\n",
    "채널명은 index, 카운트값은 value 로 출력됨.\n",
    "채널명인 index로만 필터해야함. "
   ]
  },
  {
   "cell_type": "markdown",
   "id": "ffc7bef8",
   "metadata": {},
   "source": [
    "## 1유형-01 [Answer 코드]"
   ]
  },
  {
   "cell_type": "code",
   "execution_count": 31,
   "id": "0c2650c3",
   "metadata": {},
   "outputs": [
    {
     "data": {
      "text/plain": [
       "['장삐쭈',\n",
       " '파뿌리',\n",
       " '짤툰',\n",
       " '총몇명',\n",
       " '엠뚜루마뚜루 : MBC 공식 종합 채널',\n",
       " '런닝맨 - 스브스 공식 채널',\n",
       " 'SPOTV',\n",
       " '채널 십오야',\n",
       " '이과장',\n",
       " 'BANGTANTV']"
      ]
     },
     "execution_count": 31,
     "metadata": {},
     "output_type": "execute_result"
    }
   ],
   "source": [
    "# 1. 날짜 기준으로 정렬\n",
    "df.sort_values('trending_date2', ascending = True, inplace = True)\n",
    "# 2. 채널 id 기준으로 개수 세서, 상위 10개 뽑기, 해당되는 행만 필터링\n",
    "channel_counts = df['channelId'].value_counts().head(10)\n",
    "top10_channel = df[df['channelId'].isin(channel_counts.index)]\n",
    "# 3. 채널명만 중복 없이 리스트로 출력\n",
    "top10_channel['channelTitle'].unique().tolist()"
   ]
  },
  {
   "cell_type": "code",
   "execution_count": 52,
   "id": "f575479e",
   "metadata": {},
   "outputs": [
    {
     "data": {
      "text/plain": [
       "['장삐쭈',\n",
       " '런닝맨 - 스브스 공식 채널',\n",
       " '짤툰',\n",
       " '총몇명',\n",
       " '파뿌리',\n",
       " '엠뚜루마뚜루 : MBC 공식 종합 채널',\n",
       " 'SPOTV',\n",
       " '채널 십오야',\n",
       " '이과장',\n",
       " 'BANGTANTV']"
      ]
     },
     "execution_count": 52,
     "metadata": {},
     "output_type": "execute_result"
    }
   ],
   "source": [
    "df.sort_values('trending_date2', ascending = True, inplace = True)\n",
    "\n",
    "df_topID = df['channelId'].value_counts().head(10).index\n",
    "df_toptitle = df[df['channelId'].isin(df_topID)]\n",
    "df_toptitle['channelTitle'].unique().tolist()"
   ]
  },
  {
   "cell_type": "markdown",
   "id": "134869af",
   "metadata": {},
   "source": [
    "## 1유형-02 [Try 코드] [정답!]"
   ]
  },
  {
   "cell_type": "markdown",
   "id": "d5db77e1",
   "metadata": {},
   "source": [
    "채널명을 바꾼 케이스가 있는지 확인하고 싶다. channelId의 경우 고유값이므로 이를 통해 채널명을 한번이라도 바꾼 채널의 갯수를 구하여라"
   ]
  },
  {
   "cell_type": "code",
   "execution_count": 60,
   "id": "4a225d43",
   "metadata": {},
   "outputs": [
    {
     "data": {
      "text/plain": [
       "71"
      ]
     },
     "execution_count": 60,
     "metadata": {},
     "output_type": "execute_result"
    }
   ],
   "source": [
    "# 1. channelId 기준 그룹화해서 channelTitle 유니크값이 2개 이상인 것만 필터링\n",
    "df_grouped = df.groupby('channelId')['channelTitle'].nunique()\n",
    "df_grouped = df_grouped[df_grouped > 1]\n",
    "len(df_grouped)"
   ]
  },
  {
   "cell_type": "code",
   "execution_count": 61,
   "id": "e7dd3be0",
   "metadata": {},
   "outputs": [
    {
     "name": "stdout",
     "output_type": "stream",
     "text": [
      "71\n"
     ]
    }
   ],
   "source": [
    "# 모범 답안\n",
    "change = df[['channelTitle','channelId']].drop_duplicates().channelId.value_counts()\n",
    "target = change[change>1]\n",
    "print(len(target))"
   ]
  },
  {
   "cell_type": "markdown",
   "id": "7920fc4f",
   "metadata": {},
   "source": [
    "## 1유형-03 [Try 코드]"
   ]
  },
  {
   "cell_type": "markdown",
   "id": "811eeba2",
   "metadata": {},
   "source": [
    "일요일에 인기있었던 영상들중 가장많은 영상 종류(categoryId)는 무엇인가?"
   ]
  },
  {
   "cell_type": "code",
   "execution_count": 81,
   "id": "951ce3c8",
   "metadata": {},
   "outputs": [
    {
     "data": {
      "text/plain": [
       "np.int64(10)"
      ]
     },
     "execution_count": 81,
     "metadata": {},
     "output_type": "execute_result"
    }
   ],
   "source": [
    "# trending_date2에서 무슨 요일인지로 변경해서 변수 생성. '일요일'인 행만 필터링\n",
    " # 날짜형식 변경\n",
    "df['trending_date2'] = pd.to_datetime(df['trending_date2'])\n",
    " # 요일 추출\n",
    "df['dayname'] = df['trending_date2'].dt.day_name()\n",
    "df.head()\n",
    " # '일요일'인 행만 필터링\n",
    "df_Sun = df[df['dayname'] =='Sunday']\n",
    "\n",
    "# 그 중 likes가 가장 높은 행의 categoryId를 출력\n",
    "df_Sun_like = df_Sun.sort_values('likes', ascending = False).head(1)\n",
    "df_Sun_like['categoryId'].values[0]\n"
   ]
  },
  {
   "cell_type": "markdown",
   "id": "54eeb0ae",
   "metadata": {},
   "source": [
    "- 문제 이해 잘못.. 가장 좋아요 많은게 아니라 가장 많은 categoryID를 추출하는거임."
   ]
  },
  {
   "cell_type": "markdown",
   "id": "00322ad7",
   "metadata": {},
   "source": [
    "## 1유형-03 [정답 코드]"
   ]
  },
  {
   "cell_type": "code",
   "execution_count": 86,
   "id": "7755674b",
   "metadata": {},
   "outputs": [
    {
     "data": {
      "text/plain": [
       "np.int64(24)"
      ]
     },
     "execution_count": 86,
     "metadata": {},
     "output_type": "execute_result"
    }
   ],
   "source": [
    "df['trending_date2'] = pd.to_datetime(df['trending_date2'])\n",
    "df['dayname'] = df['trending_date2'].dt.day_name()\n",
    "\n",
    "df_Sun = df[df['dayname'] == 'Sunday']\n",
    "answer = df_Sun['categoryId'].value_counts().head(1).index[0]\n",
    "answer"
   ]
  },
  {
   "cell_type": "code",
   "execution_count": null,
   "id": "ed289fda",
   "metadata": {},
   "outputs": [],
   "source": []
  },
  {
   "cell_type": "code",
   "execution_count": null,
   "id": "0b29e970",
   "metadata": {},
   "outputs": [],
   "source": []
  },
  {
   "cell_type": "code",
   "execution_count": null,
   "id": "c64ce797",
   "metadata": {},
   "outputs": [],
   "source": []
  }
 ],
 "metadata": {
  "kernelspec": {
   "display_name": "Python (myenv)",
   "language": "python",
   "name": "myenv_kernel"
  },
  "language_info": {
   "codemirror_mode": {
    "name": "ipython",
    "version": 3
   },
   "file_extension": ".py",
   "mimetype": "text/x-python",
   "name": "python",
   "nbconvert_exporter": "python",
   "pygments_lexer": "ipython3",
   "version": "3.12.8"
  }
 },
 "nbformat": 4,
 "nbformat_minor": 5
}
