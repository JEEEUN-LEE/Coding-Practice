{
 "cells": [
  {
   "cell_type": "code",
   "execution_count": 2,
   "id": "49cd6312",
   "metadata": {},
   "outputs": [
    {
     "data": {
      "text/html": [
       "<div>\n",
       "<style scoped>\n",
       "    .dataframe tbody tr th:only-of-type {\n",
       "        vertical-align: middle;\n",
       "    }\n",
       "\n",
       "    .dataframe tbody tr th {\n",
       "        vertical-align: top;\n",
       "    }\n",
       "\n",
       "    .dataframe thead th {\n",
       "        text-align: right;\n",
       "    }\n",
       "</style>\n",
       "<table border=\"1\" class=\"dataframe\">\n",
       "  <thead>\n",
       "    <tr style=\"text-align: right;\">\n",
       "      <th></th>\n",
       "      <th>title</th>\n",
       "      <th>channelTitle</th>\n",
       "      <th>categoryId</th>\n",
       "      <th>view_count</th>\n",
       "      <th>likes</th>\n",
       "      <th>dislikes</th>\n",
       "      <th>comment_count</th>\n",
       "      <th>channelId</th>\n",
       "      <th>trending_date2</th>\n",
       "    </tr>\n",
       "  </thead>\n",
       "  <tbody>\n",
       "    <tr>\n",
       "      <th>0</th>\n",
       "      <td>[신병] 물자창고</td>\n",
       "      <td>장삐쭈</td>\n",
       "      <td>23</td>\n",
       "      <td>1893473</td>\n",
       "      <td>38249</td>\n",
       "      <td>730</td>\n",
       "      <td>8595</td>\n",
       "      <td>UChbE5OZQ6dRHECsX0tEPEZQ</td>\n",
       "      <td>2021-01-01</td>\n",
       "    </tr>\n",
       "    <tr>\n",
       "      <th>1</th>\n",
       "      <td>RAIN(비) - 나로 바꾸자 Switch to me (duet with JYP) MV</td>\n",
       "      <td>RAIN's Official Channel</td>\n",
       "      <td>10</td>\n",
       "      <td>2600864</td>\n",
       "      <td>0</td>\n",
       "      <td>0</td>\n",
       "      <td>20129</td>\n",
       "      <td>UCxXgIeE5hxWxHG6dz9Scg2w</td>\n",
       "      <td>2021-01-01</td>\n",
       "    </tr>\n",
       "    <tr>\n",
       "      <th>2</th>\n",
       "      <td>2020년 제야의 종 온라인 타종행사 | 보신각 현장 행사는 진행하지 않습니다.</td>\n",
       "      <td>서울시 · Seoul</td>\n",
       "      <td>29</td>\n",
       "      <td>347049</td>\n",
       "      <td>3564</td>\n",
       "      <td>120</td>\n",
       "      <td>178</td>\n",
       "      <td>UCZUPZW5idAxYp-Asj__lVAA</td>\n",
       "      <td>2021-01-01</td>\n",
       "    </tr>\n",
       "    <tr>\n",
       "      <th>3</th>\n",
       "      <td>고기남자의 칠면조 파티</td>\n",
       "      <td>고기남자 MeatMan</td>\n",
       "      <td>26</td>\n",
       "      <td>528458</td>\n",
       "      <td>15372</td>\n",
       "      <td>280</td>\n",
       "      <td>3470</td>\n",
       "      <td>UCT3CumbFIJiW33uq0UI3zlg</td>\n",
       "      <td>2021-01-01</td>\n",
       "    </tr>\n",
       "    <tr>\n",
       "      <th>4</th>\n",
       "      <td>골목 3mc를 분노하게 만든 마음고생이 심했을 공릉 백반집 사장님의 푸념?! [예능...</td>\n",
       "      <td>스브스밥집</td>\n",
       "      <td>24</td>\n",
       "      <td>494904</td>\n",
       "      <td>3918</td>\n",
       "      <td>111</td>\n",
       "      <td>3142</td>\n",
       "      <td>UCdWgRSfttvDucq4ApcCg5Mw</td>\n",
       "      <td>2021-01-01</td>\n",
       "    </tr>\n",
       "  </tbody>\n",
       "</table>\n",
       "</div>"
      ],
      "text/plain": [
       "                                               title             channelTitle  \\\n",
       "0                                          [신병] 물자창고                      장삐쭈   \n",
       "1   RAIN(비) - 나로 바꾸자 Switch to me (duet with JYP) MV  RAIN's Official Channel   \n",
       "2       2020년 제야의 종 온라인 타종행사 | 보신각 현장 행사는 진행하지 않습니다.              서울시 · Seoul   \n",
       "3                                       고기남자의 칠면조 파티             고기남자 MeatMan   \n",
       "4  골목 3mc를 분노하게 만든 마음고생이 심했을 공릉 백반집 사장님의 푸념?! [예능...                    스브스밥집   \n",
       "\n",
       "   categoryId  view_count  likes  dislikes  comment_count  \\\n",
       "0          23     1893473  38249       730           8595   \n",
       "1          10     2600864      0         0          20129   \n",
       "2          29      347049   3564       120            178   \n",
       "3          26      528458  15372       280           3470   \n",
       "4          24      494904   3918       111           3142   \n",
       "\n",
       "                  channelId trending_date2  \n",
       "0  UChbE5OZQ6dRHECsX0tEPEZQ     2021-01-01  \n",
       "1  UCxXgIeE5hxWxHG6dz9Scg2w     2021-01-01  \n",
       "2  UCZUPZW5idAxYp-Asj__lVAA     2021-01-01  \n",
       "3  UCT3CumbFIJiW33uq0UI3zlg     2021-01-01  \n",
       "4  UCdWgRSfttvDucq4ApcCg5Mw     2021-01-01  "
      ]
     },
     "execution_count": 2,
     "metadata": {},
     "output_type": "execute_result"
    }
   ],
   "source": [
    "# 데이터마님 1유형 01\n",
    "# https://www.datamanim.com/dataset/03_dataq/typeone.html\n",
    "import pandas as pd\n",
    "df = pd.read_csv(\"https://raw.githubusercontent.com/Datamanim/datarepo/main/youtube/youtube.csv\",index_col=0)\n",
    "df.head()"
   ]
  },
  {
   "cell_type": "code",
   "execution_count": 20,
   "id": "c79500eb",
   "metadata": {},
   "outputs": [
    {
     "data": {
      "text/plain": [
       "Index(['title', 'channelTitle', 'categoryId', 'view_count', 'likes',\n",
       "       'dislikes', 'comment_count', 'channelId', 'trending_date2'],\n",
       "      dtype='object')"
      ]
     },
     "execution_count": 20,
     "metadata": {},
     "output_type": "execute_result"
    }
   ],
   "source": [
    "df.columns"
   ]
  },
  {
   "cell_type": "markdown",
   "id": "221f2697",
   "metadata": {},
   "source": [
    "## 1유형-01 [Try 코드]"
   ]
  },
  {
   "cell_type": "code",
   "execution_count": null,
   "id": "ddd794c7",
   "metadata": {},
   "outputs": [],
   "source": [
    "# 인기 동영상 제작횟수가 많은 채널 상위 10개명을 출력하라 (날짜기준, 중복포함)\n",
    "\n",
    "# 1. 날짜 기준 정렬\n",
    "df.sort_values('trending_date2', ascending = False, inplace = True)\n",
    "# 2. 채널명 개수 세서, 상위 10개 추출\n",
    "top10_channel = df[df['channelTitle'].value_counts().head(10)]\n",
    "# 3. 채널명만 리스트로 출력\n",
    "top10_channel_list = top10_channel['channelTitle'].unique().tolist()\n",
    "top10_channel_list"
   ]
  },
  {
   "cell_type": "markdown",
   "id": "8d85c2bc",
   "metadata": {},
   "source": [
    "<틀린 부분>\n",
    "- channel_ID 기준.\n",
    "- value_counts().head()는 Series로 출력되어 바로 df[] 필터를 사용할 수 없음\n",
    "채널명은 index, 카운트값은 value 로 출력됨.\n",
    "채널명인 index로만 필터해야함. "
   ]
  },
  {
   "cell_type": "markdown",
   "id": "ffc7bef8",
   "metadata": {},
   "source": [
    "## 1유형-01 [Answer 코드]"
   ]
  },
  {
   "cell_type": "code",
   "execution_count": 31,
   "id": "0c2650c3",
   "metadata": {},
   "outputs": [
    {
     "data": {
      "text/plain": [
       "['장삐쭈',\n",
       " '파뿌리',\n",
       " '짤툰',\n",
       " '총몇명',\n",
       " '엠뚜루마뚜루 : MBC 공식 종합 채널',\n",
       " '런닝맨 - 스브스 공식 채널',\n",
       " 'SPOTV',\n",
       " '채널 십오야',\n",
       " '이과장',\n",
       " 'BANGTANTV']"
      ]
     },
     "execution_count": 31,
     "metadata": {},
     "output_type": "execute_result"
    }
   ],
   "source": [
    "# 1. 날짜 기준으로 정렬\n",
    "df.sort_values('trending_date2', ascending = True, inplace = True)\n",
    "# 2. 채널 id 기준으로 개수 세서, 상위 10개 뽑기, 해당되는 행만 필터링\n",
    "channel_counts = df['channelId'].value_counts().head(10)\n",
    "top10_channel = df[df['channelId'].isin(channel_counts.index)]\n",
    "# 3. 채널명만 중복 없이 리스트로 출력\n",
    "top10_channel['channelTitle'].unique().tolist()"
   ]
  },
  {
   "cell_type": "code",
   "execution_count": 52,
   "id": "f575479e",
   "metadata": {},
   "outputs": [
    {
     "data": {
      "text/plain": [
       "['장삐쭈',\n",
       " '런닝맨 - 스브스 공식 채널',\n",
       " '짤툰',\n",
       " '총몇명',\n",
       " '파뿌리',\n",
       " '엠뚜루마뚜루 : MBC 공식 종합 채널',\n",
       " 'SPOTV',\n",
       " '채널 십오야',\n",
       " '이과장',\n",
       " 'BANGTANTV']"
      ]
     },
     "execution_count": 52,
     "metadata": {},
     "output_type": "execute_result"
    }
   ],
   "source": [
    "df.sort_values('trending_date2', ascending = True, inplace = True)\n",
    "\n",
    "df_topID = df['channelId'].value_counts().head(10).index\n",
    "df_toptitle = df[df['channelId'].isin(df_topID)]\n",
    "df_toptitle['channelTitle'].unique().tolist()"
   ]
  },
  {
   "cell_type": "markdown",
   "id": "134869af",
   "metadata": {},
   "source": [
    "## 1유형-02 [Try 코드] [정답!]"
   ]
  },
  {
   "cell_type": "markdown",
   "id": "d5db77e1",
   "metadata": {},
   "source": [
    "채널명을 바꾼 케이스가 있는지 확인하고 싶다. channelId의 경우 고유값이므로 이를 통해 채널명을 한번이라도 바꾼 채널의 갯수를 구하여라"
   ]
  },
  {
   "cell_type": "code",
   "execution_count": 60,
   "id": "4a225d43",
   "metadata": {},
   "outputs": [
    {
     "data": {
      "text/plain": [
       "71"
      ]
     },
     "execution_count": 60,
     "metadata": {},
     "output_type": "execute_result"
    }
   ],
   "source": [
    "# 1. channelId 기준 그룹화해서 channelTitle 유니크값이 2개 이상인 것만 필터링\n",
    "df_grouped = df.groupby('channelId')['channelTitle'].nunique()\n",
    "df_grouped = df_grouped[df_grouped > 1]\n",
    "len(df_grouped)"
   ]
  },
  {
   "cell_type": "code",
   "execution_count": 61,
   "id": "e7dd3be0",
   "metadata": {},
   "outputs": [
    {
     "name": "stdout",
     "output_type": "stream",
     "text": [
      "71\n"
     ]
    }
   ],
   "source": [
    "# 모범 답안\n",
    "change = df[['channelTitle','channelId']].drop_duplicates().channelId.value_counts()\n",
    "target = change[change>1]\n",
    "print(len(target))"
   ]
  },
  {
   "cell_type": "markdown",
   "id": "7920fc4f",
   "metadata": {},
   "source": [
    "## 1유형-03 [Try 코드]"
   ]
  },
  {
   "cell_type": "markdown",
   "id": "811eeba2",
   "metadata": {},
   "source": [
    "일요일에 인기있었던 영상들중 가장많은 영상 종류(categoryId)는 무엇인가?"
   ]
  },
  {
   "cell_type": "code",
   "execution_count": 81,
   "id": "951ce3c8",
   "metadata": {},
   "outputs": [
    {
     "data": {
      "text/plain": [
       "np.int64(10)"
      ]
     },
     "execution_count": 81,
     "metadata": {},
     "output_type": "execute_result"
    }
   ],
   "source": [
    "# trending_date2에서 무슨 요일인지로 변경해서 변수 생성. '일요일'인 행만 필터링\n",
    " # 날짜형식 변경\n",
    "df['trending_date2'] = pd.to_datetime(df['trending_date2'])\n",
    " # 요일 추출\n",
    "df['dayname'] = df['trending_date2'].dt.day_name()\n",
    "df.head()\n",
    " # '일요일'인 행만 필터링\n",
    "df_Sun = df[df['dayname'] =='Sunday']\n",
    "\n",
    "# 그 중 likes가 가장 높은 행의 categoryId를 출력\n",
    "df_Sun_like = df_Sun.sort_values('likes', ascending = False).head(1)\n",
    "df_Sun_like['categoryId'].values[0]\n"
   ]
  },
  {
   "cell_type": "markdown",
   "id": "54eeb0ae",
   "metadata": {},
   "source": [
    "- 문제 이해 잘못.. 가장 좋아요 많은게 아니라 가장 많은 categoryID를 추출하는거임."
   ]
  },
  {
   "cell_type": "markdown",
   "id": "00322ad7",
   "metadata": {},
   "source": [
    "## 1유형-03 [정답 코드]"
   ]
  },
  {
   "cell_type": "code",
   "execution_count": 86,
   "id": "7755674b",
   "metadata": {},
   "outputs": [
    {
     "data": {
      "text/plain": [
       "np.int64(24)"
      ]
     },
     "execution_count": 86,
     "metadata": {},
     "output_type": "execute_result"
    }
   ],
   "source": [
    "df['trending_date2'] = pd.to_datetime(df['trending_date2'])\n",
    "df['dayname'] = df['trending_date2'].dt.day_name()\n",
    "\n",
    "df_Sun = df[df['dayname'] == 'Sunday']\n",
    "answer = df_Sun['categoryId'].value_counts().head(1).index[0]\n",
    "answer"
   ]
  },
  {
   "cell_type": "code",
   "execution_count": 3,
   "id": "ed289fda",
   "metadata": {},
   "outputs": [
    {
     "data": {
      "text/plain": [
       "np.int64(24)"
      ]
     },
     "execution_count": 3,
     "metadata": {},
     "output_type": "execute_result"
    }
   ],
   "source": [
    "# -04. 일요일에 인기있었던 영상들중 가장많은 영상 종류(categoryId)는 무엇인가?\n",
    "df['trending_date2'] = pd.to_datetime(df['trending_date2'])\n",
    "\n",
    "df['day'] = df['trending_date2'].dt.day_name()\n",
    "df_Sun = df[df['day'] == 'Sunday']\n",
    "df_Sun['categoryId'].value_counts().head(1).index[0]"
   ]
  },
  {
   "cell_type": "code",
   "execution_count": 5,
   "id": "0b29e970",
   "metadata": {},
   "outputs": [
    {
     "name": "stderr",
     "output_type": "stream",
     "text": [
      "C:\\Users\\jee36\\AppData\\Local\\Temp\\ipykernel_36696\\3576755677.py:2: UserWarning: Could not infer format, so each element will be parsed individually, falling back to `dateutil`. To ensure parsing is consistent and as-expected, please specify a format.\n",
      "  df['trending_date2'] = pd.to_datetime(df['trending_date2'])\n"
     ]
    },
    {
     "ename": "DateParseError",
     "evalue": "Unable to parse datetime string: Friday, at position 0",
     "output_type": "error",
     "traceback": [
      "\u001b[1;31m---------------------------------------------------------------------------\u001b[0m",
      "\u001b[1;31mDateParseError\u001b[0m                            Traceback (most recent call last)",
      "Cell \u001b[1;32mIn[5], line 2\u001b[0m\n\u001b[0;32m      1\u001b[0m \u001b[38;5;66;03m# -05. 각 요일별 인기 영상들의 categoryId는 각각 몇개 씩인지 하나의 데이터 프레임으로 표현하라\u001b[39;00m\n\u001b[1;32m----> 2\u001b[0m df[\u001b[38;5;124m'\u001b[39m\u001b[38;5;124mtrending_date2\u001b[39m\u001b[38;5;124m'\u001b[39m] \u001b[38;5;241m=\u001b[39m \u001b[43mpd\u001b[49m\u001b[38;5;241;43m.\u001b[39;49m\u001b[43mto_datetime\u001b[49m\u001b[43m(\u001b[49m\u001b[43mdf\u001b[49m\u001b[43m[\u001b[49m\u001b[38;5;124;43m'\u001b[39;49m\u001b[38;5;124;43mtrending_date2\u001b[39;49m\u001b[38;5;124;43m'\u001b[39;49m\u001b[43m]\u001b[49m\u001b[43m)\u001b[49m\n\u001b[0;32m      3\u001b[0m df[\u001b[38;5;124m'\u001b[39m\u001b[38;5;124mtrending_date2\u001b[39m\u001b[38;5;124m'\u001b[39m] \u001b[38;5;241m=\u001b[39m df[\u001b[38;5;124m'\u001b[39m\u001b[38;5;124mtrending_date2\u001b[39m\u001b[38;5;124m'\u001b[39m]\u001b[38;5;241m.\u001b[39mdt\u001b[38;5;241m.\u001b[39mday_name()\n\u001b[0;32m      4\u001b[0m group \u001b[38;5;241m=\u001b[39m df\u001b[38;5;241m.\u001b[39mgroupby([\u001b[38;5;124m'\u001b[39m\u001b[38;5;124mtrending_date2\u001b[39m\u001b[38;5;124m'\u001b[39m,\u001b[38;5;124m'\u001b[39m\u001b[38;5;124mcategoryId\u001b[39m\u001b[38;5;124m'\u001b[39m])\u001b[38;5;241m.\u001b[39msize()\u001b[38;5;241m.\u001b[39mreset_index(name \u001b[38;5;241m=\u001b[39m \u001b[38;5;124m'\u001b[39m\u001b[38;5;124msize\u001b[39m\u001b[38;5;124m'\u001b[39m)\n",
      "File \u001b[1;32mc:\\my-project\\myenv\\Lib\\site-packages\\pandas\\core\\tools\\datetimes.py:1063\u001b[0m, in \u001b[0;36mto_datetime\u001b[1;34m(arg, errors, dayfirst, yearfirst, utc, format, exact, unit, infer_datetime_format, origin, cache)\u001b[0m\n\u001b[0;32m   1061\u001b[0m             result \u001b[38;5;241m=\u001b[39m arg\u001b[38;5;241m.\u001b[39mtz_localize(\u001b[38;5;124m\"\u001b[39m\u001b[38;5;124mutc\u001b[39m\u001b[38;5;124m\"\u001b[39m)\n\u001b[0;32m   1062\u001b[0m \u001b[38;5;28;01melif\u001b[39;00m \u001b[38;5;28misinstance\u001b[39m(arg, ABCSeries):\n\u001b[1;32m-> 1063\u001b[0m     cache_array \u001b[38;5;241m=\u001b[39m \u001b[43m_maybe_cache\u001b[49m\u001b[43m(\u001b[49m\u001b[43marg\u001b[49m\u001b[43m,\u001b[49m\u001b[43m \u001b[49m\u001b[38;5;28;43mformat\u001b[39;49m\u001b[43m,\u001b[49m\u001b[43m \u001b[49m\u001b[43mcache\u001b[49m\u001b[43m,\u001b[49m\u001b[43m \u001b[49m\u001b[43mconvert_listlike\u001b[49m\u001b[43m)\u001b[49m\n\u001b[0;32m   1064\u001b[0m     \u001b[38;5;28;01mif\u001b[39;00m \u001b[38;5;129;01mnot\u001b[39;00m cache_array\u001b[38;5;241m.\u001b[39mempty:\n\u001b[0;32m   1065\u001b[0m         result \u001b[38;5;241m=\u001b[39m arg\u001b[38;5;241m.\u001b[39mmap(cache_array)\n",
      "File \u001b[1;32mc:\\my-project\\myenv\\Lib\\site-packages\\pandas\\core\\tools\\datetimes.py:247\u001b[0m, in \u001b[0;36m_maybe_cache\u001b[1;34m(arg, format, cache, convert_listlike)\u001b[0m\n\u001b[0;32m    245\u001b[0m unique_dates \u001b[38;5;241m=\u001b[39m unique(arg)\n\u001b[0;32m    246\u001b[0m \u001b[38;5;28;01mif\u001b[39;00m \u001b[38;5;28mlen\u001b[39m(unique_dates) \u001b[38;5;241m<\u001b[39m \u001b[38;5;28mlen\u001b[39m(arg):\n\u001b[1;32m--> 247\u001b[0m     cache_dates \u001b[38;5;241m=\u001b[39m \u001b[43mconvert_listlike\u001b[49m\u001b[43m(\u001b[49m\u001b[43munique_dates\u001b[49m\u001b[43m,\u001b[49m\u001b[43m \u001b[49m\u001b[38;5;28;43mformat\u001b[39;49m\u001b[43m)\u001b[49m\n\u001b[0;32m    248\u001b[0m     \u001b[38;5;66;03m# GH#45319\u001b[39;00m\n\u001b[0;32m    249\u001b[0m     \u001b[38;5;28;01mtry\u001b[39;00m:\n",
      "File \u001b[1;32mc:\\my-project\\myenv\\Lib\\site-packages\\pandas\\core\\tools\\datetimes.py:435\u001b[0m, in \u001b[0;36m_convert_listlike_datetimes\u001b[1;34m(arg, format, name, utc, unit, errors, dayfirst, yearfirst, exact)\u001b[0m\n\u001b[0;32m    432\u001b[0m \u001b[38;5;28;01mif\u001b[39;00m \u001b[38;5;28mformat\u001b[39m \u001b[38;5;129;01mis\u001b[39;00m \u001b[38;5;129;01mnot\u001b[39;00m \u001b[38;5;28;01mNone\u001b[39;00m \u001b[38;5;129;01mand\u001b[39;00m \u001b[38;5;28mformat\u001b[39m \u001b[38;5;241m!=\u001b[39m \u001b[38;5;124m\"\u001b[39m\u001b[38;5;124mmixed\u001b[39m\u001b[38;5;124m\"\u001b[39m:\n\u001b[0;32m    433\u001b[0m     \u001b[38;5;28;01mreturn\u001b[39;00m _array_strptime_with_fallback(arg, name, utc, \u001b[38;5;28mformat\u001b[39m, exact, errors)\n\u001b[1;32m--> 435\u001b[0m result, tz_parsed \u001b[38;5;241m=\u001b[39m \u001b[43mobjects_to_datetime64\u001b[49m\u001b[43m(\u001b[49m\n\u001b[0;32m    436\u001b[0m \u001b[43m    \u001b[49m\u001b[43marg\u001b[49m\u001b[43m,\u001b[49m\n\u001b[0;32m    437\u001b[0m \u001b[43m    \u001b[49m\u001b[43mdayfirst\u001b[49m\u001b[38;5;241;43m=\u001b[39;49m\u001b[43mdayfirst\u001b[49m\u001b[43m,\u001b[49m\n\u001b[0;32m    438\u001b[0m \u001b[43m    \u001b[49m\u001b[43myearfirst\u001b[49m\u001b[38;5;241;43m=\u001b[39;49m\u001b[43myearfirst\u001b[49m\u001b[43m,\u001b[49m\n\u001b[0;32m    439\u001b[0m \u001b[43m    \u001b[49m\u001b[43mutc\u001b[49m\u001b[38;5;241;43m=\u001b[39;49m\u001b[43mutc\u001b[49m\u001b[43m,\u001b[49m\n\u001b[0;32m    440\u001b[0m \u001b[43m    \u001b[49m\u001b[43merrors\u001b[49m\u001b[38;5;241;43m=\u001b[39;49m\u001b[43merrors\u001b[49m\u001b[43m,\u001b[49m\n\u001b[0;32m    441\u001b[0m \u001b[43m    \u001b[49m\u001b[43mallow_object\u001b[49m\u001b[38;5;241;43m=\u001b[39;49m\u001b[38;5;28;43;01mTrue\u001b[39;49;00m\u001b[43m,\u001b[49m\n\u001b[0;32m    442\u001b[0m \u001b[43m\u001b[49m\u001b[43m)\u001b[49m\n\u001b[0;32m    444\u001b[0m \u001b[38;5;28;01mif\u001b[39;00m tz_parsed \u001b[38;5;129;01mis\u001b[39;00m \u001b[38;5;129;01mnot\u001b[39;00m \u001b[38;5;28;01mNone\u001b[39;00m:\n\u001b[0;32m    445\u001b[0m     \u001b[38;5;66;03m# We can take a shortcut since the datetime64 numpy array\u001b[39;00m\n\u001b[0;32m    446\u001b[0m     \u001b[38;5;66;03m# is in UTC\u001b[39;00m\n\u001b[0;32m    447\u001b[0m     out_unit \u001b[38;5;241m=\u001b[39m np\u001b[38;5;241m.\u001b[39mdatetime_data(result\u001b[38;5;241m.\u001b[39mdtype)[\u001b[38;5;241m0\u001b[39m]\n",
      "File \u001b[1;32mc:\\my-project\\myenv\\Lib\\site-packages\\pandas\\core\\arrays\\datetimes.py:2398\u001b[0m, in \u001b[0;36mobjects_to_datetime64\u001b[1;34m(data, dayfirst, yearfirst, utc, errors, allow_object, out_unit)\u001b[0m\n\u001b[0;32m   2395\u001b[0m \u001b[38;5;66;03m# if str-dtype, convert\u001b[39;00m\n\u001b[0;32m   2396\u001b[0m data \u001b[38;5;241m=\u001b[39m np\u001b[38;5;241m.\u001b[39masarray(data, dtype\u001b[38;5;241m=\u001b[39mnp\u001b[38;5;241m.\u001b[39mobject_)\n\u001b[1;32m-> 2398\u001b[0m result, tz_parsed \u001b[38;5;241m=\u001b[39m \u001b[43mtslib\u001b[49m\u001b[38;5;241;43m.\u001b[39;49m\u001b[43marray_to_datetime\u001b[49m\u001b[43m(\u001b[49m\n\u001b[0;32m   2399\u001b[0m \u001b[43m    \u001b[49m\u001b[43mdata\u001b[49m\u001b[43m,\u001b[49m\n\u001b[0;32m   2400\u001b[0m \u001b[43m    \u001b[49m\u001b[43merrors\u001b[49m\u001b[38;5;241;43m=\u001b[39;49m\u001b[43merrors\u001b[49m\u001b[43m,\u001b[49m\n\u001b[0;32m   2401\u001b[0m \u001b[43m    \u001b[49m\u001b[43mutc\u001b[49m\u001b[38;5;241;43m=\u001b[39;49m\u001b[43mutc\u001b[49m\u001b[43m,\u001b[49m\n\u001b[0;32m   2402\u001b[0m \u001b[43m    \u001b[49m\u001b[43mdayfirst\u001b[49m\u001b[38;5;241;43m=\u001b[39;49m\u001b[43mdayfirst\u001b[49m\u001b[43m,\u001b[49m\n\u001b[0;32m   2403\u001b[0m \u001b[43m    \u001b[49m\u001b[43myearfirst\u001b[49m\u001b[38;5;241;43m=\u001b[39;49m\u001b[43myearfirst\u001b[49m\u001b[43m,\u001b[49m\n\u001b[0;32m   2404\u001b[0m \u001b[43m    \u001b[49m\u001b[43mcreso\u001b[49m\u001b[38;5;241;43m=\u001b[39;49m\u001b[43mabbrev_to_npy_unit\u001b[49m\u001b[43m(\u001b[49m\u001b[43mout_unit\u001b[49m\u001b[43m)\u001b[49m\u001b[43m,\u001b[49m\n\u001b[0;32m   2405\u001b[0m \u001b[43m\u001b[49m\u001b[43m)\u001b[49m\n\u001b[0;32m   2407\u001b[0m \u001b[38;5;28;01mif\u001b[39;00m tz_parsed \u001b[38;5;129;01mis\u001b[39;00m \u001b[38;5;129;01mnot\u001b[39;00m \u001b[38;5;28;01mNone\u001b[39;00m:\n\u001b[0;32m   2408\u001b[0m     \u001b[38;5;66;03m# We can take a shortcut since the datetime64 numpy array\u001b[39;00m\n\u001b[0;32m   2409\u001b[0m     \u001b[38;5;66;03m#  is in UTC\u001b[39;00m\n\u001b[0;32m   2410\u001b[0m     \u001b[38;5;28;01mreturn\u001b[39;00m result, tz_parsed\n",
      "File \u001b[1;32mtslib.pyx:414\u001b[0m, in \u001b[0;36mpandas._libs.tslib.array_to_datetime\u001b[1;34m()\u001b[0m\n",
      "File \u001b[1;32mtslib.pyx:596\u001b[0m, in \u001b[0;36mpandas._libs.tslib.array_to_datetime\u001b[1;34m()\u001b[0m\n",
      "File \u001b[1;32mtslib.pyx:553\u001b[0m, in \u001b[0;36mpandas._libs.tslib.array_to_datetime\u001b[1;34m()\u001b[0m\n",
      "File \u001b[1;32mconversion.pyx:641\u001b[0m, in \u001b[0;36mpandas._libs.tslibs.conversion.convert_str_to_tsobject\u001b[1;34m()\u001b[0m\n",
      "File \u001b[1;32mparsing.pyx:336\u001b[0m, in \u001b[0;36mpandas._libs.tslibs.parsing.parse_datetime_string\u001b[1;34m()\u001b[0m\n",
      "File \u001b[1;32mparsing.pyx:678\u001b[0m, in \u001b[0;36mpandas._libs.tslibs.parsing.dateutil_parse\u001b[1;34m()\u001b[0m\n",
      "\u001b[1;31mDateParseError\u001b[0m: Unable to parse datetime string: Friday, at position 0"
     ]
    }
   ],
   "source": [
    "# -05. 각 요일별 인기 영상들의 categoryId는 각각 몇개 씩인지 하나의 데이터 프레임으로 표현하라\n",
    "df['trending_date2'] = pd.to_datetime(df['trending_date2'])\n",
    "df['trending_date2'] = df['trending_date2'].dt.day_name()\n",
    "group = df.groupby(['trending_date2','categoryId']).size().reset_index(name = 'size')\n",
    "group.pivot(index = 'categoryId', columns = 'trending_date2')"
   ]
  },
  {
   "cell_type": "code",
   "execution_count": 6,
   "id": "c64ce797",
   "metadata": {},
   "outputs": [
    {
     "data": {
      "text/plain": [
       "'60분 동안 댓글이 달리지 않으면, 영상이 삭제됩니다. (챌린지)'"
      ]
     },
     "execution_count": 6,
     "metadata": {},
     "output_type": "execute_result"
    }
   ],
   "source": [
    "# Question 6. 댓글의 수로(comment_count) 영상 반응에 대한 판단을 할 수 있다.\n",
    "# viewcount대비 댓글수가 가장 높은 영상을 확인하라 (view_count값이 0인 경우는 제외한다)\n",
    "\n",
    "# 1. view_count 값이 0이 아닌 행만 필터링\n",
    "df2 = df.copy()\n",
    "df2 = df2[df2['view_count']!= 0]\n",
    "# 2. comment_count / view_count 구해서 변수 생성\n",
    "df2[['comment_count', 'view_count']] = df2[['comment_count', 'view_count']].astype(int)\n",
    "df2['ratio'] = df2['comment_count'] / df2['view_count']\n",
    "answer = df2.sort_values(by = 'ratio', ascending = False).head(1).title\n",
    "answer.values[0]"
   ]
  },
  {
   "cell_type": "code",
   "execution_count": 7,
   "id": "f8b8a936",
   "metadata": {},
   "outputs": [
    {
     "data": {
      "text/plain": [
       "'Join the BTS #PermissiontoDance Challenge only on YouTube #Shorts'"
      ]
     },
     "execution_count": 7,
     "metadata": {},
     "output_type": "execute_result"
    }
   ],
   "source": [
    "# Question 7. 댓글의 수로 (comment_count) 영상 반응에 대한 판단을 할 수 있다.\n",
    "# viewcount대비 댓글수가 가장 낮은 영상을 확인하라 (view_counts, ratio값이 0인경우는 제외한다.)\n",
    "\n",
    "df3 = df.copy()\n",
    "df3['ratio'] = df3['comment_count'] / df3['view_count']\n",
    "df3 = df3[df3['ratio'] != 0]\n",
    "answer = df3.sort_values(by = 'ratio', ascending = True).head(1).title\n",
    "answer.values[0]\n"
   ]
  },
  {
   "cell_type": "code",
   "execution_count": null,
   "id": "701efe22",
   "metadata": {},
   "outputs": [],
   "source": [
    "# Question 8\n",
    "\n",
    "# like 대비 dislike의 수가 가장 적은 영상은 무엇인가? (like, dislike 값이 0인경우는 제외한다)"
   ]
  },
  {
   "cell_type": "code",
   "execution_count": null,
   "id": "50038888",
   "metadata": {},
   "outputs": [],
   "source": [
    "df2 = df.copy()\n",
    "df2 = df2[(df2['likes'] !=0) & (df2['dislikes'] !=0)]\n",
    "df2['ratio'] = df2['dislikes'] / df2['likes']"
   ]
  },
  {
   "cell_type": "markdown",
   "id": "889f67cd",
   "metadata": {},
   "source": [
    "⭐ 오류 체크\n",
    "\n",
    "괄호 ( )를 안할 경우 다음과 같은 오류가 남. 왜냐, '&'가 '!=' 보다 우선순위가 낮아서 다른 순서로 계산됨.\n",
    "\n",
    "ValueError: The truth value of a Series is ambiguous.\n",
    "'&' 대신 'and'를 사용할 수 없음. 왜냐, '&' 연산자는 각 조건의 결과가 Series일 때 원소 단위로 AND 연산을 해주고, 'and, or' 등은 단일값일 때 사용할 수 있음\n",
    "\n",
    "\n",
    "df2['ratio'] = df2['ratio'].sort_values() 이렇게 하면 df['ratio']만 정렬되므로, df2 전체가 정렬될 수 있도록 df2 = df2.sort_values('ratio') 이걸로 해야함"
   ]
  },
  {
   "cell_type": "code",
   "execution_count": null,
   "id": "418ffc11",
   "metadata": {},
   "outputs": [],
   "source": [
    "df2 = df2.sort_values(by = 'ratio', ascending = True)\n",
    "answer = df2['title'].head(1)\n",
    "answer.values[0]"
   ]
  },
  {
   "cell_type": "markdown",
   "id": "16743f72",
   "metadata": {},
   "source": [
    ":Question 9\n",
    "\n",
    "가장많은 트렌드 영상을 제작한 채널의 이름은 무엇인가? (날짜기준, 중복포함)"
   ]
  },
  {
   "cell_type": "code",
   "execution_count": null,
   "id": "a5c8e752",
   "metadata": {},
   "outputs": [],
   "source": [
    "# channelTitle 별 그룹화하고, trending date2 개수 카운트\n",
    "group = df2.groupby(by = 'channelTitle', as_index = False)['trending_date2'].nunique().sort_values(by ='trending_date2', ascending = False)\n",
    "group['channelTitle'].iloc[0]"
   ]
  },
  {
   "cell_type": "markdown",
   "id": "33f39a23",
   "metadata": {},
   "source": [
    "Question 10\n",
    "\n",
    "20회(20일)이상 인기동영상 리스트에 포함된 동영상의 숫자는?"
   ]
  },
  {
   "cell_type": "code",
   "execution_count": null,
   "id": "d1258b46",
   "metadata": {},
   "outputs": [],
   "source": [
    "# title 기준 그룹화하고, trending date nuique 값이 20 이상인 필터링, len() 개수 세기\n",
    "group = df2.groupby(by = ['title', 'channelId'], as_index = False)['trending_date2'].nunique()\n",
    "len(group['trending_date2'] >= 20)"
   ]
  },
  {
   "cell_type": "markdown",
   "id": "d86b82d0",
   "metadata": {},
   "source": [
    "⭐ 오류 체크\n",
    "\n",
    "여러개 항목 기준으로 그룹화 하려면 by = ['항목1', '항목2'] []로 활용\n",
    "중복을 포함하지 않는 경우를 구할려면 nunique()이고, 중복 포함하여 20개 이상인 것만 보려면 value_counts\n",
    "그리고 len()만 쓸 경우 전체 데이터 숫자를 세게됨. 설정한 조건이 True인 것만 세려면 count한거의 sum()을 사용해야함."
   ]
  },
  {
   "cell_type": "code",
   "execution_count": null,
   "id": "548efaf3",
   "metadata": {},
   "outputs": [],
   "source": [
    "# 정답\n",
    "df2 = df.copy()\n",
    "\n",
    "# title,channelId 기준 그룹화하고, trending date nuique 값이 20 이상인 필터링, len() 개수 세기\n",
    "answer = (df2[['title','channelId']].value_counts() >=20).sum()\n",
    "print(answer)"
   ]
  },
  {
   "cell_type": "code",
   "execution_count": null,
   "id": "736a9d8c",
   "metadata": {},
   "outputs": [],
   "source": []
  },
  {
   "cell_type": "code",
   "execution_count": null,
   "id": "9bbef4cd",
   "metadata": {},
   "outputs": [],
   "source": []
  }
 ],
 "metadata": {
  "kernelspec": {
   "display_name": "Python (myenv)",
   "language": "python",
   "name": "myenv_kernel"
  },
  "language_info": {
   "codemirror_mode": {
    "name": "ipython",
    "version": 3
   },
   "file_extension": ".py",
   "mimetype": "text/x-python",
   "name": "python",
   "nbconvert_exporter": "python",
   "pygments_lexer": "ipython3",
   "version": "3.12.8"
  }
 },
 "nbformat": 4,
 "nbformat_minor": 5
}
